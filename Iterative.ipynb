{
  "nbformat": 4,
  "nbformat_minor": 0,
  "metadata": {
    "colab": {
      "provenance": []
    },
    "kernelspec": {
      "name": "python3",
      "display_name": "Python 3"
    },
    "language_info": {
      "name": "python"
    }
  },
  "cells": [
    {
      "cell_type": "markdown",
      "source": [
        "# Iterative Prompt Develelopment\n",
        "\n",
        "\n",
        "## Setup\n",
        "\n",
        "###Improving your prompts step by step to get better product."
      ],
      "metadata": {
        "id": "L9DtiP-0GIcj"
      }
    },
    {
      "cell_type": "code",
      "source": [
        "!pip install python-dotenv\n",
        "!pip install openai"
      ],
      "metadata": {
        "colab": {
          "base_uri": "https://localhost:8080/"
        },
        "id": "Y-yBVzGEwYmR",
        "outputId": "38dbd198-c73f-484e-dbca-af51474694b0"
      },
      "execution_count": 1,
      "outputs": [
        {
          "output_type": "stream",
          "name": "stdout",
          "text": [
            "Looking in indexes: https://pypi.org/simple, https://us-python.pkg.dev/colab-wheels/public/simple/\n",
            "Collecting python-dotenv\n",
            "  Downloading python_dotenv-1.0.0-py3-none-any.whl (19 kB)\n",
            "Installing collected packages: python-dotenv\n",
            "Successfully installed python-dotenv-1.0.0\n",
            "Looking in indexes: https://pypi.org/simple, https://us-python.pkg.dev/colab-wheels/public/simple/\n",
            "Collecting openai\n",
            "  Downloading openai-0.27.6-py3-none-any.whl (71 kB)\n",
            "\u001b[2K     \u001b[90m━━━━━━━━━━━━━━━━━━━━━━━━━━━━━━━━━━━━━━━━\u001b[0m \u001b[32m71.9/71.9 kB\u001b[0m \u001b[31m2.5 MB/s\u001b[0m eta \u001b[36m0:00:00\u001b[0m\n",
            "\u001b[?25hRequirement already satisfied: requests>=2.20 in /usr/local/lib/python3.10/dist-packages (from openai) (2.27.1)\n",
            "Collecting aiohttp\n",
            "  Downloading aiohttp-3.8.4-cp310-cp310-manylinux_2_17_x86_64.manylinux2014_x86_64.whl (1.0 MB)\n",
            "\u001b[2K     \u001b[90m━━━━━━━━━━━━━━━━━━━━━━━━━━━━━━━━━━━━━━━━\u001b[0m \u001b[32m1.0/1.0 MB\u001b[0m \u001b[31m18.5 MB/s\u001b[0m eta \u001b[36m0:00:00\u001b[0m\n",
            "\u001b[?25hRequirement already satisfied: tqdm in /usr/local/lib/python3.10/dist-packages (from openai) (4.65.0)\n",
            "Requirement already satisfied: charset-normalizer~=2.0.0 in /usr/local/lib/python3.10/dist-packages (from requests>=2.20->openai) (2.0.12)\n",
            "Requirement already satisfied: idna<4,>=2.5 in /usr/local/lib/python3.10/dist-packages (from requests>=2.20->openai) (3.4)\n",
            "Requirement already satisfied: urllib3<1.27,>=1.21.1 in /usr/local/lib/python3.10/dist-packages (from requests>=2.20->openai) (1.26.15)\n",
            "Requirement already satisfied: certifi>=2017.4.17 in /usr/local/lib/python3.10/dist-packages (from requests>=2.20->openai) (2022.12.7)\n",
            "Collecting async-timeout<5.0,>=4.0.0a3\n",
            "  Downloading async_timeout-4.0.2-py3-none-any.whl (5.8 kB)\n",
            "Collecting aiosignal>=1.1.2\n",
            "  Downloading aiosignal-1.3.1-py3-none-any.whl (7.6 kB)\n",
            "Collecting yarl<2.0,>=1.0\n",
            "  Downloading yarl-1.9.2-cp310-cp310-manylinux_2_17_x86_64.manylinux2014_x86_64.whl (268 kB)\n",
            "\u001b[2K     \u001b[90m━━━━━━━━━━━━━━━━━━━━━━━━━━━━━━━━━━━━━━\u001b[0m \u001b[32m268.8/268.8 kB\u001b[0m \u001b[31m20.0 MB/s\u001b[0m eta \u001b[36m0:00:00\u001b[0m\n",
            "\u001b[?25hCollecting frozenlist>=1.1.1\n",
            "  Downloading frozenlist-1.3.3-cp310-cp310-manylinux_2_5_x86_64.manylinux1_x86_64.manylinux_2_17_x86_64.manylinux2014_x86_64.whl (149 kB)\n",
            "\u001b[2K     \u001b[90m━━━━━━━━━━━━━━━━━━━━━━━━━━━━━━━━━━━━━━\u001b[0m \u001b[32m149.6/149.6 kB\u001b[0m \u001b[31m13.0 MB/s\u001b[0m eta \u001b[36m0:00:00\u001b[0m\n",
            "\u001b[?25hCollecting multidict<7.0,>=4.5\n",
            "  Downloading multidict-6.0.4-cp310-cp310-manylinux_2_17_x86_64.manylinux2014_x86_64.whl (114 kB)\n",
            "\u001b[2K     \u001b[90m━━━━━━━━━━━━━━━━━━━━━━━━━━━━━━━━━━━━━━\u001b[0m \u001b[32m114.5/114.5 kB\u001b[0m \u001b[31m12.0 MB/s\u001b[0m eta \u001b[36m0:00:00\u001b[0m\n",
            "\u001b[?25hRequirement already satisfied: attrs>=17.3.0 in /usr/local/lib/python3.10/dist-packages (from aiohttp->openai) (23.1.0)\n",
            "Installing collected packages: multidict, frozenlist, async-timeout, yarl, aiosignal, aiohttp, openai\n",
            "Successfully installed aiohttp-3.8.4 aiosignal-1.3.1 async-timeout-4.0.2 frozenlist-1.3.3 multidict-6.0.4 openai-0.27.6 yarl-1.9.2\n"
          ]
        }
      ]
    },
    {
      "cell_type": "code",
      "source": [
        "import openai\n",
        "import os\n",
        "\n",
        "\n",
        "from dotenv import load_dotenv, find_dotenv\n",
        "_ = load_dotenv(find_dotenv())\n",
        "\n",
        "\n",
        "openai.api_key_path= '/content/h.txt'"
      ],
      "metadata": {
        "id": "GqmnSpjDGL83"
      },
      "execution_count": 2,
      "outputs": []
    },
    {
      "cell_type": "code",
      "source": [
        "def get_completion(prompt, model=\"gpt-3.5-turbo\"):\n",
        "    messages = [{\"role\": \"user\", \"content\": prompt}]\n",
        "    response = openai.ChatCompletion.create(\n",
        "        model=model,\n",
        "        messages=messages,\n",
        "        temperature=0, # this is the degree of randomness of the model's output\n",
        "    )\n",
        "    return response.choices[0].message[\"content\"]"
      ],
      "metadata": {
        "id": "aP3PrqyzGOgc"
      },
      "execution_count": 3,
      "outputs": []
    },
    {
      "cell_type": "markdown",
      "source": [
        "## Generate a marketing product description from a fact sheet of a smart material"
      ],
      "metadata": {
        "id": "japrg7mAGR2g"
      }
    },
    {
      "cell_type": "code",
      "source": [
        "fact_sheet_product = \"\"\"\n",
        "OVERVIEW\n",
        "Product Name: Smart Thermostat\n",
        "\n",
        "Description: A Wi-Fi-enabled device that allows you to remotely control your home's temperature. \n",
        "It uses advanced algorithms to learn your preferences, save energy, and can integrate with other smart devices.\n",
        "\n",
        "Key Features:\n",
        "\n",
        "Remote control\n",
        "Energy savings\n",
        "Learning algorithms\n",
        "Compatibility with most HVAC systems\n",
        "Integration with other smart devices\n",
        "Voice control (some models)\n",
        "Geofencing\n",
        "Technical Specifications:\n",
        "\n",
        "Wi-Fi connectivity: 2.4GHz or 5GHz\n",
        "Compatibility: Most HVAC systems with 24VAC control circuits\n",
        "Power source: Requires C-wire or batteries\n",
        "Sensors: Temperature, humidity, and occupancy detection\n",
        "Display: LCD or OLED touchscreen\n",
        "Compatible with iOS, Android, and web browsers\n",
        "Warranty: Most come with a one-year warranty, but some offer extended warranties at additional cost.\n",
        "\n",
        "\n",
        "\"\"\""
      ],
      "metadata": {
        "id": "463Hski3GUF_"
      },
      "execution_count": 6,
      "outputs": []
    },
    {
      "cell_type": "code",
      "source": [
        "prompt = f\"\"\"\n",
        "Your task is to help a marketing team create a \n",
        "description for a retail website of a product based \n",
        "on a technical fact sheet.\n",
        "\n",
        "Write a product description based on the information \n",
        "provided in the technical specifications delimited by \n",
        "triple backticks.\n",
        "\n",
        "Technical specifications: ```{fact_sheet_product}```\n",
        "\"\"\"\n",
        "response = get_completion(prompt)\n",
        "print(response)\n"
      ],
      "metadata": {
        "id": "1GS_smYoGXPV",
        "colab": {
          "base_uri": "https://localhost:8080/"
        },
        "outputId": "f0636a16-4873-44ec-cea2-a7db3632d99b"
      },
      "execution_count": 7,
      "outputs": [
        {
          "output_type": "stream",
          "name": "stdout",
          "text": [
            "Introducing the Smart Thermostat - the ultimate solution for controlling your home's temperature from anywhere, at any time. With its Wi-Fi connectivity, this device allows you to remotely control your HVAC system using your smartphone, tablet, or computer. \n",
            "\n",
            "The Smart Thermostat is equipped with advanced algorithms that learn your preferences and adjust the temperature accordingly, resulting in significant energy savings. It also features sensors for temperature, humidity, and occupancy detection, ensuring that your home is always at the perfect temperature. \n",
            "\n",
            "This device is compatible with most HVAC systems with 24VAC control circuits, and can integrate with other smart devices for a seamless home automation experience. Some models even offer voice control for added convenience. \n",
            "\n",
            "With geofencing capabilities, the Smart Thermostat can detect when you're away from home and adjust the temperature accordingly, ensuring that you're always comfortable when you return. \n",
            "\n",
            "The Smart Thermostat comes with an LCD or OLED touchscreen display, making it easy to use and navigate. It's also compatible with iOS, Android, and web browsers, so you can control your home's temperature from virtually anywhere. \n",
            "\n",
            "Most Smart Thermostats come with a one-year warranty, but some offer extended warranties at an additional cost. Invest in the Smart Thermostat today and experience the ultimate in home temperature control and energy savings.\n"
          ]
        }
      ]
    },
    {
      "cell_type": "markdown",
      "source": [
        "## Issue 2. Text focuses on the wrong details\n",
        "- Ask it to focus on the aspects that are relevant to the intended audience."
      ],
      "metadata": {
        "id": "08PaEimyGibD"
      }
    },
    {
      "cell_type": "code",
      "source": [
        "prompt = f\"\"\"\n",
        "Your task is to help a marketing team create a \n",
        "description for a retail website of a product based \n",
        "on a technical fact sheet.\n",
        "\n",
        "Write a product description based on the information \n",
        "provided in the technical specifications delimited by \n",
        "triple backticks.\n",
        "\n",
        "The description is intended for furniture retailers, \n",
        "so should be technical in nature and focus on the \n",
        "materials the product is constructed from.\n",
        "\n",
        "Use at most 50 words.\n",
        "\n",
        "Technical specifications: ```{fact_sheet_product}```\n",
        "\"\"\"\n",
        "response = get_completion(prompt)\n",
        "print(response)"
      ],
      "metadata": {
        "id": "C3zpMAMmGkiv",
        "colab": {
          "base_uri": "https://localhost:8080/"
        },
        "outputId": "0ded9e54-92b0-4c02-f449-0a31ad57e635"
      },
      "execution_count": 8,
      "outputs": [
        {
          "output_type": "stream",
          "name": "stdout",
          "text": [
            "Introducing the Smart Thermostat - the ultimate solution for remote temperature control. With Wi-Fi connectivity, advanced algorithms, and compatibility with most HVAC systems, this device saves energy and integrates with other smart devices. Featuring temperature, humidity, and occupancy sensors, an LCD or OLED touchscreen display, and voice control (some models), it's the perfect addition to any smart home.\n"
          ]
        }
      ]
    },
    {
      "cell_type": "markdown",
      "source": [
        "Play with it and tell it to describe cool stuff about the products like I did."
      ],
      "metadata": {
        "id": "hbLJGDwN2wvv"
      }
    },
    {
      "cell_type": "code",
      "source": [
        "prompt = f\"\"\"\n",
        "Your task is to help a marketing team create a \n",
        "description for a retail website of a product based \n",
        "on a technical fact sheet.\n",
        "\n",
        "Write a product description based on the information \n",
        "delimited by triple backticks.\n",
        "\n",
        "The description is intended for rich retailers, \n",
        "so should be flashy in nature and focus on the \n",
        "tech-savy and cool parts, also spice it up a little.\n",
        "\n",
        "At the end of the description, include every 7-character \n",
        "Product ID in the technical specification.\n",
        "\n",
        "Use at most 50 words.\n",
        "\n",
        "Technical specifications: ```{fact_sheet_product}```\n",
        "\"\"\"\n",
        "response = get_completion(prompt)\n",
        "print(response)"
      ],
      "metadata": {
        "id": "88bNVNwJGsiT",
        "colab": {
          "base_uri": "https://localhost:8080/"
        },
        "outputId": "c88a36d6-4c0d-4a0d-f0c0-5f66c6b37bc9"
      },
      "execution_count": 10,
      "outputs": [
        {
          "output_type": "stream",
          "name": "stdout",
          "text": [
            "Introducing the Smart Thermostat - the ultimate solution for controlling your home's temperature from anywhere. With advanced learning algorithms, it saves energy and integrates with other smart devices. Voice control and geofencing make it even more convenient. Compatible with most HVAC systems and available with an LCD or OLED touchscreen display. Get yours today and experience the future of home comfort. Product ID: 2.4GHz, 5GHz, 24VAC, C-wire, iOS, Android.\n"
          ]
        }
      ]
    },
    {
      "cell_type": "markdown",
      "source": [
        "## Issue 3. Description needs a table of dimensions\n",
        "- Ask it to extract information and organize it in a table."
      ],
      "metadata": {
        "id": "zm1claQoGvGL"
      }
    },
    {
      "cell_type": "code",
      "source": [
        "prompt = f\"\"\"\n",
        "Your task is to help a marketing team create a \n",
        "description for a retail website of a product based \n",
        "on a technical fact sheet.\n",
        "\n",
        "Write a product description based on the information \n",
        "provided in the technical specifications delimited by \n",
        "triple backticks.\n",
        "\n",
        "The description is intended for rich retailers, \n",
        "so should be flashy in nature and focus on the \n",
        "tech-savy and cool parts, also spice it up a little.\n",
        "\n",
        "At the end of the description, include every 7-character \n",
        "Product ID in the technical specification.\n",
        "\n",
        "After the description, include a table that gives the \n",
        "product's specifications. The table should have two columns.\n",
        "In the first column include the name of the software. \n",
        "In the second column include the hardware.\n",
        "\n",
        "Give the table the title 'Product Specifications'.\n",
        "\n",
        "Format everything as HTML that can be used in a website. \n",
        "Place the description in a <div> element.\n",
        "\n",
        "Technical specifications: ```{fact_sheet_product}```\n",
        "\"\"\"\n",
        "\n",
        "response = get_completion(prompt)\n",
        "print(response)"
      ],
      "metadata": {
        "id": "0t88AoQNGx0H",
        "colab": {
          "base_uri": "https://localhost:8080/"
        },
        "outputId": "703e1829-dd52-45c7-935e-74e30ce4f2d0"
      },
      "execution_count": 11,
      "outputs": [
        {
          "output_type": "stream",
          "name": "stdout",
          "text": [
            "<div>\n",
            "<h2>Introducing the Smart Thermostat - The Ultimate Temperature Control Solution</h2>\n",
            "<p>Take control of your home's temperature with the Smart Thermostat. This Wi-Fi-enabled device allows you to remotely control your home's temperature from anywhere, at any time. With advanced learning algorithms, the Smart Thermostat learns your preferences and saves energy by adjusting the temperature when you're away. It's compatible with most HVAC systems and can integrate with other smart devices, making it the ultimate temperature control solution for your home. Plus, with voice control and geofencing capabilities, the Smart Thermostat is the perfect addition to any smart home.</p>\n",
            "<p>Product ID: 7G6H8J9</p>\n",
            "</div>\n",
            "\n",
            "<table>\n",
            "  <tr>\n",
            "    <th>Software</th>\n",
            "    <th>Hardware</th>\n",
            "  </tr>\n",
            "  <tr>\n",
            "    <td>Wi-Fi connectivity</td>\n",
            "    <td>2.4GHz or 5GHz</td>\n",
            "  </tr>\n",
            "  <tr>\n",
            "    <td>Compatibility</td>\n",
            "    <td>Most HVAC systems with 24VAC control circuits</td>\n",
            "  </tr>\n",
            "  <tr>\n",
            "    <td>Power source</td>\n",
            "    <td>Requires C-wire or batteries</td>\n",
            "  </tr>\n",
            "  <tr>\n",
            "    <td>Sensors</td>\n",
            "    <td>Temperature, humidity, and occupancy detection</td>\n",
            "  </tr>\n",
            "  <tr>\n",
            "    <td>Display</td>\n",
            "    <td>LCD or OLED touchscreen</td>\n",
            "  </tr>\n",
            "  <tr>\n",
            "    <td>Compatibility</td>\n",
            "    <td>iOS, Android, and web browsers</td>\n",
            "  </tr>\n",
            "  <tr>\n",
            "    <td>Warranty</td>\n",
            "    <td>Most come with a one-year warranty, but some offer extended warranties at additional cost.</td>\n",
            "  </tr>\n",
            "</table>\n",
            "<h3>Product Specifications</h3>\n"
          ]
        }
      ]
    },
    {
      "cell_type": "markdown",
      "source": [
        "## Load Python libraries to view HTML"
      ],
      "metadata": {
        "id": "Msdd_7s2G02l"
      }
    },
    {
      "cell_type": "code",
      "source": [
        "from IPython.display import display, HTML"
      ],
      "metadata": {
        "id": "as0ohsSAG4tQ"
      },
      "execution_count": 12,
      "outputs": []
    },
    {
      "cell_type": "code",
      "source": [
        "display(HTML(response))"
      ],
      "metadata": {
        "id": "Dl4E2C38G6yj",
        "colab": {
          "base_uri": "https://localhost:8080/",
          "height": 375
        },
        "outputId": "f967a89e-6354-447f-b76d-e3df4a069e29"
      },
      "execution_count": 13,
      "outputs": [
        {
          "output_type": "display_data",
          "data": {
            "text/plain": [
              "<IPython.core.display.HTML object>"
            ],
            "text/html": [
              "<div>\n",
              "<h2>Introducing the Smart Thermostat - The Ultimate Temperature Control Solution</h2>\n",
              "<p>Take control of your home's temperature with the Smart Thermostat. This Wi-Fi-enabled device allows you to remotely control your home's temperature from anywhere, at any time. With advanced learning algorithms, the Smart Thermostat learns your preferences and saves energy by adjusting the temperature when you're away. It's compatible with most HVAC systems and can integrate with other smart devices, making it the ultimate temperature control solution for your home. Plus, with voice control and geofencing capabilities, the Smart Thermostat is the perfect addition to any smart home.</p>\n",
              "<p>Product ID: 7G6H8J9</p>\n",
              "</div>\n",
              "\n",
              "<table>\n",
              "  <tr>\n",
              "    <th>Software</th>\n",
              "    <th>Hardware</th>\n",
              "  </tr>\n",
              "  <tr>\n",
              "    <td>Wi-Fi connectivity</td>\n",
              "    <td>2.4GHz or 5GHz</td>\n",
              "  </tr>\n",
              "  <tr>\n",
              "    <td>Compatibility</td>\n",
              "    <td>Most HVAC systems with 24VAC control circuits</td>\n",
              "  </tr>\n",
              "  <tr>\n",
              "    <td>Power source</td>\n",
              "    <td>Requires C-wire or batteries</td>\n",
              "  </tr>\n",
              "  <tr>\n",
              "    <td>Sensors</td>\n",
              "    <td>Temperature, humidity, and occupancy detection</td>\n",
              "  </tr>\n",
              "  <tr>\n",
              "    <td>Display</td>\n",
              "    <td>LCD or OLED touchscreen</td>\n",
              "  </tr>\n",
              "  <tr>\n",
              "    <td>Compatibility</td>\n",
              "    <td>iOS, Android, and web browsers</td>\n",
              "  </tr>\n",
              "  <tr>\n",
              "    <td>Warranty</td>\n",
              "    <td>Most come with a one-year warranty, but some offer extended warranties at additional cost.</td>\n",
              "  </tr>\n",
              "</table>\n",
              "<h3>Product Specifications</h3>"
            ]
          },
          "metadata": {}
        }
      ]
    },
    {
      "cell_type": "code",
      "source": [
        "prod_review = \"\"\"\n",
        "Got this panda plush toy for my daughter's birthday, \\\n",
        "who loves it and takes it everywhere. It's soft and \\ \n",
        "super cute, and its face has a friendly look. It's \\ \n",
        "a bit small for what I paid though. I think there \\ \n",
        "might be other options that are bigger for the \\ \n",
        "same price. It arrived a day earlier than expected, \\ \n",
        "so I got to play with it myself before I gave it \\ \n",
        "to her.\n",
        "\"\"\""
      ],
      "metadata": {
        "id": "yP-BUnit6P8e"
      },
      "execution_count": 14,
      "outputs": []
    },
    {
      "cell_type": "code",
      "source": [
        "prompt = f\"\"\"\n",
        "Your task is to generate a short summary of a product \\\n",
        "review from an ecommerce site to give feedback to the \\\n",
        "Shipping deparmtment. \n",
        "\n",
        "Summarize the review below, delimited by triple \n",
        "backticks, in at most 30 words, and focusing on any aspects \\\n",
        "that mention shipping and delivery of the product. \n",
        "\n",
        "Review: ```{prod_review}```\n",
        "\"\"\"\n",
        "\n",
        "response = get_completion(prompt)\n",
        "print(response)"
      ],
      "metadata": {
        "id": "kDDoP2UU6QAH",
        "colab": {
          "base_uri": "https://localhost:8080/"
        },
        "outputId": "3e6d256a-991e-4549-87fb-7357cfe74569"
      },
      "execution_count": 15,
      "outputs": [
        {
          "output_type": "stream",
          "name": "stdout",
          "text": [
            "The panda plush toy arrived a day earlier than expected, but the customer felt it was a bit small for the price paid.\n"
          ]
        }
      ]
    },
    {
      "cell_type": "code",
      "source": [
        "prompt = f\"\"\"\n",
        "Your task is to generate a short summary of a product \\\n",
        "review from an ecommerce site to give feedback to the \\\n",
        "pricing deparmtment, responsible for determining the \\\n",
        "price of the product.  \n",
        "\n",
        "Summarize the review below, delimited by triple \n",
        "backticks, in at most 30 words, and focusing on any aspects \\\n",
        "that are relevant to the price and perceived value. \n",
        "\n",
        "Review: ```{prod_review}```\n",
        "\"\"\"\n",
        "\n",
        "response = get_completion(prompt)\n",
        "print(response)\n"
      ],
      "metadata": {
        "id": "ceLX_TqP6QC_",
        "colab": {
          "base_uri": "https://localhost:8080/"
        },
        "outputId": "1a1a659e-084f-4442-85db-b7994afb402a"
      },
      "execution_count": 16,
      "outputs": [
        {
          "output_type": "stream",
          "name": "stdout",
          "text": [
            "The panda plush toy is soft, cute, and loved by the recipient, but the price may be too high for its size.\n"
          ]
        }
      ]
    },
    {
      "cell_type": "code",
      "source": [],
      "metadata": {
        "id": "y6kXkEx-6QM8"
      },
      "execution_count": null,
      "outputs": []
    },
    {
      "cell_type": "markdown",
      "source": [
        "## Try more fun and experimenting on your own!"
      ],
      "metadata": {
        "id": "ukXcw3I7G8xT"
      }
    }
  ]
}